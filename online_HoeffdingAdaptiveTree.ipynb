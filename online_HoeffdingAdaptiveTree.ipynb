{
 "cells": [
  {
   "cell_type": "code",
   "execution_count": 2,
   "id": "0bb9b026-e3bb-4824-861f-ad869047b5a1",
   "metadata": {
    "tags": []
   },
   "outputs": [
    {
     "name": "stdout",
     "output_type": "stream",
     "text": [
      "\u001b[33mWARNING: The directory '/home/jovyan/.cache/pip' or its parent directory is not owned or is not writable by the current user. The cache has been disabled. Check the permissions and owner of that directory. If executing pip with sudo, you should use sudo's -H flag.\u001b[0m\u001b[33m\n",
      "\u001b[0mCollecting numpy==1.16.6\n",
      "  Downloading numpy-1.16.6.zip (5.1 MB)\n",
      "\u001b[2K     \u001b[90m━━━━━━━━━━━━━━━━━━━━━━━━━━━━━━━━━━━━━━━━\u001b[0m \u001b[32m5.1/5.1 MB\u001b[0m \u001b[31m23.1 MB/s\u001b[0m eta \u001b[36m0:00:00\u001b[0ma \u001b[36m0:00:01\u001b[0m\n",
      "\u001b[?25h  Preparing metadata (setup.py) ... \u001b[?25ldone\n",
      "\u001b[?25hBuilding wheels for collected packages: numpy\n",
      "  Building wheel for numpy (setup.py) ... \u001b[?25ldone\n",
      "\u001b[?25h  Created wheel for numpy: filename=numpy-1.16.6-cp39-cp39-linux_x86_64.whl size=3408386 sha256=7c3e5093bf3839cd9e9e7bb912e4d9c579989a64f7a9d7733becde5bba6469b6\n",
      "  Stored in directory: /tmp/pip-ephem-wheel-cache-4qjk5lqh/wheels/ce/72/38/377a1055ac9b575ebba22e507856aecdc37f9bf6372703e5f9\n",
      "Successfully built numpy\n",
      "Installing collected packages: numpy\n",
      "  Attempting uninstall: numpy\n",
      "    Found existing installation: numpy 1.21.5\n",
      "    Uninstalling numpy-1.21.5:\n",
      "      Successfully uninstalled numpy-1.21.5\n",
      "\u001b[31mERROR: pip's dependency resolver does not currently take into account all the packages that are installed. This behaviour is the source of the following dependency conflicts.\n",
      "tifffile 2022.3.16 requires numpy>=1.19.2, but you have numpy 1.16.6 which is incompatible.\n",
      "tables 3.7.0 requires numpy>=1.19.0, but you have numpy 1.16.6 which is incompatible.\n",
      "statsmodels 0.13.2 requires numpy>=1.17, but you have numpy 1.16.6 which is incompatible.\n",
      "scipy 1.8.0 requires numpy<1.25.0,>=1.17.3, but you have numpy 1.16.6 which is incompatible.\n",
      "scikit-image 0.19.2 requires numpy>=1.17.0, but you have numpy 1.16.6 which is incompatible.\n",
      "pywavelets 1.3.0 requires numpy>=1.17.3, but you have numpy 1.16.6 which is incompatible.\n",
      "pandas 1.4.1 requires numpy>=1.18.5, but you have numpy 1.16.6 which is incompatible.\n",
      "numba 0.55.1 requires numpy<1.22,>=1.18, but you have numpy 1.16.6 which is incompatible.\n",
      "matplotlib 3.5.1 requires numpy>=1.17, but you have numpy 1.16.6 which is incompatible.\n",
      "imageio 2.16.1 requires numpy>=1.20.0, but you have numpy 1.16.6 which is incompatible.\n",
      "imagecodecs 2022.2.22 requires numpy>=1.19.2, but you have numpy 1.16.6 which is incompatible.\u001b[0m\u001b[31m\n",
      "\u001b[0mSuccessfully installed numpy-1.16.6\n",
      "\u001b[33mWARNING: Running pip as the 'root' user can result in broken permissions and conflicting behaviour with the system package manager. It is recommended to use a virtual environment instead: https://pip.pypa.io/warnings/venv\u001b[0m\u001b[33m\n",
      "\u001b[0m\u001b[33mWARNING: The directory '/home/jovyan/.cache/pip' or its parent directory is not owned or is not writable by the current user. The cache has been disabled. Check the permissions and owner of that directory. If executing pip with sudo, you should use sudo's -H flag.\u001b[0m\u001b[33m\n",
      "\u001b[0mCollecting river\n",
      "  Downloading river-0.10.1-cp39-cp39-manylinux_2_5_x86_64.manylinux1_x86_64.manylinux_2_17_x86_64.manylinux2014_x86_64.whl (2.1 MB)\n",
      "\u001b[2K     \u001b[90m━━━━━━━━━━━━━━━━━━━━━━━━━━━━━━━━━━━━━━━━\u001b[0m \u001b[32m2.1/2.1 MB\u001b[0m \u001b[31m22.8 MB/s\u001b[0m eta \u001b[36m0:00:00\u001b[0ma \u001b[36m0:00:01\u001b[0m\n",
      "\u001b[?25hRequirement already satisfied: scipy>=1.4.1 in /opt/conda/lib/python3.9/site-packages (from river) (1.8.0)\n",
      "Collecting numpy>=1.20.0\n",
      "  Downloading numpy-1.22.3-cp39-cp39-manylinux_2_17_x86_64.manylinux2014_x86_64.whl (16.8 MB)\n",
      "\u001b[2K     \u001b[90m━━━━━━━━━━━━━━━━━━━━━━━━━━━━━━━━━━━━━━━━\u001b[0m \u001b[32m16.8/16.8 MB\u001b[0m \u001b[31m23.9 MB/s\u001b[0m eta \u001b[36m0:00:00\u001b[0ma \u001b[36m0:00:01\u001b[0m\n",
      "\u001b[?25hRequirement already satisfied: pandas>=1.0.1 in /opt/conda/lib/python3.9/site-packages (from river) (1.4.1)\n",
      "Requirement already satisfied: python-dateutil>=2.8.1 in /opt/conda/lib/python3.9/site-packages (from pandas>=1.0.1->river) (2.8.2)\n",
      "Requirement already satisfied: pytz>=2020.1 in /opt/conda/lib/python3.9/site-packages (from pandas>=1.0.1->river) (2021.3)\n",
      "Requirement already satisfied: six>=1.5 in /opt/conda/lib/python3.9/site-packages (from python-dateutil>=2.8.1->pandas>=1.0.1->river) (1.16.0)\n",
      "Installing collected packages: numpy, river\n",
      "  Attempting uninstall: numpy\n",
      "    Found existing installation: numpy 1.16.6\n",
      "    Uninstalling numpy-1.16.6:\n",
      "      Successfully uninstalled numpy-1.16.6\n",
      "\u001b[31mERROR: pip's dependency resolver does not currently take into account all the packages that are installed. This behaviour is the source of the following dependency conflicts.\n",
      "numba 0.55.1 requires numpy<1.22,>=1.18, but you have numpy 1.22.3 which is incompatible.\u001b[0m\u001b[31m\n",
      "\u001b[0mSuccessfully installed numpy-1.22.3 river-0.10.1\n",
      "\u001b[33mWARNING: Running pip as the 'root' user can result in broken permissions and conflicting behaviour with the system package manager. It is recommended to use a virtual environment instead: https://pip.pypa.io/warnings/venv\u001b[0m\u001b[33m\n",
      "\u001b[0m"
     ]
    }
   ],
   "source": [
    "!pip install numpy==1.16.6\n",
    "!pip install river"
   ]
  },
  {
   "cell_type": "code",
   "execution_count": 4,
   "id": "a215d571-e568-4422-a4cf-d3525297f57f",
   "metadata": {},
   "outputs": [
    {
     "name": "stdout",
     "output_type": "stream",
     "text": [
      "\u001b[33mWARNING: The directory '/home/jovyan/.cache/pip' or its parent directory is not owned or is not writable by the current user. The cache has been disabled. Check the permissions and owner of that directory. If executing pip with sudo, you should use sudo's -H flag.\u001b[0m\u001b[33m\n",
      "\u001b[0mCollecting imblearn\n",
      "  Downloading imblearn-0.0-py2.py3-none-any.whl (1.9 kB)\n",
      "Collecting imbalanced-learn\n",
      "  Downloading imbalanced_learn-0.9.0-py3-none-any.whl (199 kB)\n",
      "\u001b[2K     \u001b[90m━━━━━━━━━━━━━━━━━━━━━━━━━━━━━━━━━━━━━━\u001b[0m \u001b[32m199.1/199.1 KB\u001b[0m \u001b[31m31.4 MB/s\u001b[0m eta \u001b[36m0:00:00\u001b[0m\n",
      "\u001b[?25hRequirement already satisfied: scipy>=1.1.0 in /opt/conda/lib/python3.9/site-packages (from imbalanced-learn->imblearn) (1.8.0)\n",
      "Requirement already satisfied: numpy>=1.14.6 in /opt/conda/lib/python3.9/site-packages (from imbalanced-learn->imblearn) (1.22.3)\n",
      "Requirement already satisfied: threadpoolctl>=2.0.0 in /opt/conda/lib/python3.9/site-packages (from imbalanced-learn->imblearn) (3.1.0)\n",
      "Requirement already satisfied: joblib>=0.11 in /opt/conda/lib/python3.9/site-packages (from imbalanced-learn->imblearn) (1.1.0)\n",
      "Requirement already satisfied: scikit-learn>=1.0.1 in /opt/conda/lib/python3.9/site-packages (from imbalanced-learn->imblearn) (1.0.2)\n",
      "Installing collected packages: imbalanced-learn, imblearn\n",
      "Successfully installed imbalanced-learn-0.9.0 imblearn-0.0\n",
      "\u001b[33mWARNING: Running pip as the 'root' user can result in broken permissions and conflicting behaviour with the system package manager. It is recommended to use a virtual environment instead: https://pip.pypa.io/warnings/venv\u001b[0m\u001b[33m\n",
      "\u001b[0m"
     ]
    }
   ],
   "source": [
    "!pip install imblearn"
   ]
  },
  {
   "cell_type": "code",
   "execution_count": 2,
   "id": "61249c0b-13d9-427f-a331-3b12334d72c7",
   "metadata": {},
   "outputs": [],
   "source": [
    "#encoding={'Benign':0, 'FTP-BruteForce':1,'DoS attacks-GoldenEye':2, 'DoS attacks-Slowloris':3,'DoS attacks-SlowHTTPTest':4, 'DoS attacks-Hulk':5,\"DDOS attack-HOIC\":6,\"Bot\":7,\"DDOS attack-LOIC-UDP\":8}"
   ]
  },
  {
   "cell_type": "code",
   "execution_count": 5,
   "id": "0de22461-6c13-4970-917e-346bc39baa80",
   "metadata": {},
   "outputs": [],
   "source": [
    "from river import stream\n",
    "from river import preprocessing\n",
    "from river import compose\n",
    "from river import metrics\n",
    "from river import stats\n",
    "from river import evaluate\n",
    "import pandas as pd\n",
    "from river.feature_selection import PoissonInclusion\n",
    "from river.imblearn import HardSamplingClassifier\n",
    "from river.tree import HoeffdingAdaptiveTreeClassifier\n",
    "from imblearn.metrics import geometric_mean_score\n",
    "from river.metrics import ClassificationReport"
   ]
  },
  {
   "cell_type": "code",
   "execution_count": 6,
   "id": "dd569d4c-45f8-414d-ab6e-7c2918f7916c",
   "metadata": {},
   "outputs": [],
   "source": [
    "data = pd.read_csv(\"preprocessed_multiclass_stream.csv\")"
   ]
  },
  {
   "cell_type": "code",
   "execution_count": 7,
   "id": "dc35bc0f-555d-4fce-973a-4e647130a4c4",
   "metadata": {},
   "outputs": [],
   "source": [
    "from sklearn.model_selection import train_test_split\n",
    "\n",
    "train, test = train_test_split(data, test_size=0.2)"
   ]
  },
  {
   "cell_type": "code",
   "execution_count": 8,
   "id": "8f289eba-a8c2-4735-bf49-2e8d66e82aea",
   "metadata": {},
   "outputs": [],
   "source": [
    "stream_data = stream.iter_pandas(train.drop(\"Label\", axis = 1), y = train[\"Label\"])"
   ]
  },
  {
   "cell_type": "code",
   "execution_count": 9,
   "id": "2292df3a-fa4f-408a-94d8-454b22fbfa7d",
   "metadata": {},
   "outputs": [],
   "source": [
    "test_data = stream.iter_pandas(test.drop(\"Label\", axis = 1), y = test[\"Label\"])"
   ]
  },
  {
   "cell_type": "code",
   "execution_count": 10,
   "id": "3cac8f95-023a-4d01-8c5d-59425251e266",
   "metadata": {},
   "outputs": [],
   "source": [
    "def construct_pipeline(model):\n",
    "    return compose.Pipeline(\n",
    "                PoissonInclusion(p=0.4), # feature selection to reduce training time\n",
    "                HardSamplingClassifier( # imblearn wrapper to solve class imbalance\n",
    "                            classifier=model, \n",
    "                            p=0.1,\n",
    "                            size=40,\n",
    "                        )\n",
    "                )"
   ]
  },
  {
   "cell_type": "code",
   "execution_count": 11,
   "id": "0edad1af-3f2b-459e-aecf-0ca7aa3338a5",
   "metadata": {},
   "outputs": [],
   "source": [
    "HAT_model = HoeffdingAdaptiveTreeClassifier()"
   ]
  },
  {
   "cell_type": "code",
   "execution_count": 12,
   "id": "6b22e336-f83b-4b32-9073-eef41ce5f97d",
   "metadata": {},
   "outputs": [],
   "source": [
    "model=construct_pipeline(HAT_model)"
   ]
  },
  {
   "cell_type": "code",
   "execution_count": 13,
   "id": "662eb5f2-0380-4ada-b82a-acfeb69a4987",
   "metadata": {},
   "outputs": [],
   "source": [
    "#model = compose.Pipeline(\n",
    "    #preprocessing.StandardScaler(),\n",
    "    # linear_model.LogisticRegression()\n",
    "    #HoeffdingAdaptiveTreeClassifier())\n",
    "\n",
    "for x, y in stream_data:\n",
    "    model = model.learn_one(x, y)      # make the model learn   "
   ]
  },
  {
   "cell_type": "code",
   "execution_count": 14,
   "id": "1dfaecd8-11c6-4ccf-95db-8dfaf18930f3",
   "metadata": {},
   "outputs": [
    {
     "name": "stdout",
     "output_type": "stream",
     "text": [
      "[Accuracy: 85.65%, Recall: 84.70%, Precision: 68.12%, F1: 75.51%]\n"
     ]
    }
   ],
   "source": [
    "Acc_metric = metrics.Accuracy();\n",
    "Rec_metric = metrics.Recall();\n",
    "Pre_metric = metrics.Precision();\n",
    "F1_metric = metrics.F1();\n",
    "\n",
    "def get_metric(Acc, rec, pre, f1 ):\n",
    "  Acc, rec, pre, f1 = Acc, rec, pre, f1\n",
    "  return([Acc, rec, pre, f1])\n",
    "\n",
    "predictions = []\n",
    "true_y = []\n",
    "for x, y in test_data:\n",
    "    y_pred = model.predict_one(x) # make a prediction\n",
    "    predictions.append(y_pred)\n",
    "    true_y.append(y)\n",
    "    Acc_metric = Acc_metric.update(y, y_pred)\n",
    "    Rec_metric = Rec_metric.update(y, y_pred)\n",
    "    Pre_metric = Pre_metric.update(y, y_pred)\n",
    "    F1_metric = F1_metric.update(y, y_pred)\n",
    "    model = model.learn_one(x, y)\n",
    "print(get_metric(Acc_metric, Rec_metric, Pre_metric, F1_metric))  "
   ]
  },
  {
   "cell_type": "code",
   "execution_count": 15,
   "id": "3719b7fd-4617-44d8-a0e1-a085378b4d67",
   "metadata": {},
   "outputs": [
    {
     "name": "stdout",
     "output_type": "stream",
     "text": [
      "           Precision   Recall   F1       Support  \n",
      "                                                  \n",
      "       0      90.84%   51.25%   65.53%      8283  \n",
      "       1      68.12%   84.70%   75.51%      5202  \n",
      "       2      86.16%   97.74%   91.59%      8281  \n",
      "       3      95.66%   97.74%   96.69%      2077  \n",
      "       4      69.04%   46.37%   55.48%      3843  \n",
      "       5      91.44%   61.36%   73.44%      3168  \n",
      "       6      99.47%   99.94%   99.70%     16782  \n",
      "       7      78.50%   98.15%   87.23%      1446  \n",
      "       8       0.85%    0.31%    0.45%       327  \n",
      "                                                  \n",
      "   Macro      75.56%   70.84%   71.74%            \n",
      "   Micro      85.65%   85.65%   85.65%            \n",
      "Weighted      86.16%   85.65%   84.51%            \n",
      "\n",
      "                 85.65% accuracy                  \n",
      "geometric mean score : 0.9126195798985223\n"
     ]
    }
   ],
   "source": [
    "report = ClassificationReport()\n",
    "for yt,yp in zip(true_y, predictions):\n",
    "  report = report.update(yt,yp)\n",
    "print(report)\n",
    "print(\"geometric mean score :\",geometric_mean_score(true_y, predictions, average='weighted'))"
   ]
  },
  {
   "cell_type": "code",
   "execution_count": null,
   "id": "bdf4702b-0085-4acd-8c1a-a5976ccdd49b",
   "metadata": {},
   "outputs": [],
   "source": []
  }
 ],
 "metadata": {
  "kernelspec": {
   "display_name": "Python 3 (ipykernel)",
   "language": "python",
   "name": "python3"
  },
  "language_info": {
   "codemirror_mode": {
    "name": "ipython",
    "version": 3
   },
   "file_extension": ".py",
   "mimetype": "text/x-python",
   "name": "python",
   "nbconvert_exporter": "python",
   "pygments_lexer": "ipython3",
   "version": "3.9.10"
  }
 },
 "nbformat": 4,
 "nbformat_minor": 5
}
