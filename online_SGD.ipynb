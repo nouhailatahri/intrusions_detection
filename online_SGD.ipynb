{
 "cells": [
  {
   "cell_type": "code",
   "execution_count": 1,
   "id": "0bb9b026-e3bb-4824-861f-ad869047b5a1",
   "metadata": {
    "tags": []
   },
   "outputs": [
    {
     "name": "stdout",
     "output_type": "stream",
     "text": [
      "\u001b[33mWARNING: The directory '/home/jovyan/.cache/pip' or its parent directory is not owned or is not writable by the current user. The cache has been disabled. Check the permissions and owner of that directory. If executing pip with sudo, you should use sudo's -H flag.\u001b[0m\u001b[33m\n",
      "\u001b[0mCollecting numpy==1.16.6\n",
      "  Downloading numpy-1.16.6.zip (5.1 MB)\n",
      "\u001b[2K     \u001b[90m━━━━━━━━━━━━━━━━━━━━━━━━━━━━━━━━━━━━━━━━\u001b[0m \u001b[32m5.1/5.1 MB\u001b[0m \u001b[31m23.6 MB/s\u001b[0m eta \u001b[36m0:00:00\u001b[0m00:01\u001b[0m00:01\u001b[0m\n",
      "\u001b[?25h  Preparing metadata (setup.py) ... \u001b[?25ldone\n",
      "\u001b[?25hBuilding wheels for collected packages: numpy\n",
      "  Building wheel for numpy (setup.py) ... \u001b[?25ldone\n",
      "\u001b[?25h  Created wheel for numpy: filename=numpy-1.16.6-cp39-cp39-linux_x86_64.whl size=3408386 sha256=342821d5859e15b73271cfe74055519e1b43584bd09b28dc25e01c5a9007dc43\n",
      "  Stored in directory: /tmp/pip-ephem-wheel-cache-_6j9nv32/wheels/ce/72/38/377a1055ac9b575ebba22e507856aecdc37f9bf6372703e5f9\n",
      "Successfully built numpy\n",
      "Installing collected packages: numpy\n",
      "  Attempting uninstall: numpy\n",
      "    Found existing installation: numpy 1.22.3\n",
      "    Uninstalling numpy-1.22.3:\n",
      "      Successfully uninstalled numpy-1.22.3\n",
      "\u001b[31mERROR: pip's dependency resolver does not currently take into account all the packages that are installed. This behaviour is the source of the following dependency conflicts.\n",
      "tifffile 2022.3.16 requires numpy>=1.19.2, but you have numpy 1.16.6 which is incompatible.\n",
      "tables 3.7.0 requires numpy>=1.19.0, but you have numpy 1.16.6 which is incompatible.\n",
      "statsmodels 0.13.2 requires numpy>=1.17, but you have numpy 1.16.6 which is incompatible.\n",
      "scipy 1.8.0 requires numpy<1.25.0,>=1.17.3, but you have numpy 1.16.6 which is incompatible.\n",
      "scikit-image 0.19.2 requires numpy>=1.17.0, but you have numpy 1.16.6 which is incompatible.\n",
      "river 0.10.1 requires numpy>=1.20.0, but you have numpy 1.16.6 which is incompatible.\n",
      "pywavelets 1.3.0 requires numpy>=1.17.3, but you have numpy 1.16.6 which is incompatible.\n",
      "pandas 1.4.1 requires numpy>=1.18.5, but you have numpy 1.16.6 which is incompatible.\n",
      "numba 0.55.1 requires numpy<1.22,>=1.18, but you have numpy 1.16.6 which is incompatible.\n",
      "matplotlib 3.5.1 requires numpy>=1.17, but you have numpy 1.16.6 which is incompatible.\n",
      "imageio 2.16.1 requires numpy>=1.20.0, but you have numpy 1.16.6 which is incompatible.\n",
      "imagecodecs 2022.2.22 requires numpy>=1.19.2, but you have numpy 1.16.6 which is incompatible.\u001b[0m\u001b[31m\n",
      "\u001b[0mSuccessfully installed numpy-1.16.6\n",
      "\u001b[33mWARNING: Running pip as the 'root' user can result in broken permissions and conflicting behaviour with the system package manager. It is recommended to use a virtual environment instead: https://pip.pypa.io/warnings/venv\u001b[0m\u001b[33m\n",
      "\u001b[0m\u001b[33mWARNING: The directory '/home/jovyan/.cache/pip' or its parent directory is not owned or is not writable by the current user. The cache has been disabled. Check the permissions and owner of that directory. If executing pip with sudo, you should use sudo's -H flag.\u001b[0m\u001b[33m\n",
      "\u001b[0mRequirement already satisfied: river in /opt/conda/lib/python3.9/site-packages (0.10.1)\n",
      "Collecting numpy>=1.20.0\n",
      "  Downloading numpy-1.22.3-cp39-cp39-manylinux_2_17_x86_64.manylinux2014_x86_64.whl (16.8 MB)\n",
      "\u001b[2K     \u001b[90m━━━━━━━━━━━━━━━━━━━━━━━━━━━━━━━━━━━━━━━━\u001b[0m \u001b[32m16.8/16.8 MB\u001b[0m \u001b[31m23.9 MB/s\u001b[0m eta \u001b[36m0:00:00\u001b[0ma \u001b[36m0:00:01\u001b[0m\n",
      "\u001b[?25hRequirement already satisfied: pandas>=1.0.1 in /opt/conda/lib/python3.9/site-packages (from river) (1.4.1)\n",
      "Requirement already satisfied: scipy>=1.4.1 in /opt/conda/lib/python3.9/site-packages (from river) (1.8.0)\n",
      "Requirement already satisfied: python-dateutil>=2.8.1 in /opt/conda/lib/python3.9/site-packages (from pandas>=1.0.1->river) (2.8.2)\n",
      "Requirement already satisfied: pytz>=2020.1 in /opt/conda/lib/python3.9/site-packages (from pandas>=1.0.1->river) (2021.3)\n",
      "Requirement already satisfied: six>=1.5 in /opt/conda/lib/python3.9/site-packages (from python-dateutil>=2.8.1->pandas>=1.0.1->river) (1.16.0)\n",
      "Installing collected packages: numpy\n",
      "  Attempting uninstall: numpy\n",
      "    Found existing installation: numpy 1.16.6\n",
      "    Uninstalling numpy-1.16.6:\n",
      "      Successfully uninstalled numpy-1.16.6\n",
      "\u001b[31mERROR: pip's dependency resolver does not currently take into account all the packages that are installed. This behaviour is the source of the following dependency conflicts.\n",
      "numba 0.55.1 requires numpy<1.22,>=1.18, but you have numpy 1.22.3 which is incompatible.\u001b[0m\u001b[31m\n",
      "\u001b[0mSuccessfully installed numpy-1.22.3\n",
      "\u001b[33mWARNING: Running pip as the 'root' user can result in broken permissions and conflicting behaviour with the system package manager. It is recommended to use a virtual environment instead: https://pip.pypa.io/warnings/venv\u001b[0m\u001b[33m\n",
      "\u001b[0m"
     ]
    }
   ],
   "source": [
    "!pip install numpy==1.16.6\n",
    "!pip install river"
   ]
  },
  {
   "cell_type": "code",
   "execution_count": null,
   "id": "a215d571-e568-4422-a4cf-d3525297f57f",
   "metadata": {},
   "outputs": [],
   "source": []
  },
  {
   "cell_type": "code",
   "execution_count": 2,
   "id": "61249c0b-13d9-427f-a331-3b12334d72c7",
   "metadata": {},
   "outputs": [],
   "source": [
    "#encoding={'Benign':0, 'FTP-BruteForce':1,'DoS attacks-GoldenEye':2, 'DoS attacks-Slowloris':3,'DoS attacks-SlowHTTPTest':4, 'DoS attacks-Hulk':5,\"DDOS attack-HOIC\":6,\"Bot\":7,\"DDOS attack-LOIC-UDP\":8}"
   ]
  },
  {
   "cell_type": "code",
   "execution_count": 3,
   "id": "0de22461-6c13-4970-917e-346bc39baa80",
   "metadata": {},
   "outputs": [],
   "source": [
    "from river import stream\n",
    "from river import preprocessing\n",
    "from river import compose\n",
    "from river import metrics\n",
    "from river import stats\n",
    "from river import evaluate\n",
    "import pandas as pd\n",
    "from river.feature_selection import PoissonInclusion\n",
    "from river.imblearn import HardSamplingClassifier\n",
    "from river.linear_model import LogisticRegression\n",
    "from river.optim import SGD"
   ]
  },
  {
   "cell_type": "code",
   "execution_count": 4,
   "id": "dd569d4c-45f8-414d-ab6e-7c2918f7916c",
   "metadata": {},
   "outputs": [],
   "source": [
    "data = pd.read_csv(\"preprocessed_multiclass_stream.csv\")"
   ]
  },
  {
   "cell_type": "code",
   "execution_count": 5,
   "id": "8f289eba-a8c2-4735-bf49-2e8d66e82aea",
   "metadata": {},
   "outputs": [],
   "source": [
    "stream_data = stream.iter_pandas(data.drop(\"Label\", axis = 1), y = data[\"Label\"])"
   ]
  },
  {
   "cell_type": "code",
   "execution_count": 6,
   "id": "3cac8f95-023a-4d01-8c5d-59425251e266",
   "metadata": {},
   "outputs": [],
   "source": [
    "def construct_pipeline(model):\n",
    "    return compose.Pipeline(\n",
    "                PoissonInclusion(p=0.6), # feature selection to reduce training time\n",
    "                HardSamplingClassifier( # imblearn wrapper to solve class imbalance\n",
    "                            classifier=model, \n",
    "                            p=0.1,\n",
    "                            size=40,\n",
    "                        )\n",
    "                )"
   ]
  },
  {
   "cell_type": "code",
   "execution_count": 7,
   "id": "e3085ee9-7938-4a10-a11f-854d86f1b64f",
   "metadata": {},
   "outputs": [],
   "source": [
    "SGD_model = LogisticRegression(SGD(0.1))\n",
    "SGD_F1 = metrics.MacroF1()"
   ]
  },
  {
   "cell_type": "code",
   "execution_count": 8,
   "id": "38d7a409-ec53-41c4-9dc6-e16ddeb25c6d",
   "metadata": {},
   "outputs": [
    {
     "name": "stdout",
     "output_type": "stream",
     "text": [
      "[50,000] MacroF1: 42.28% – 00:00:27\n",
      "[100,000] MacroF1: 29.46% – 00:00:55\n",
      "[150,000] MacroF1: 15.11% – 00:01:23\n",
      "[200,000] MacroF1: 13.93% – 00:01:50\n",
      "[250,000] MacroF1: 11.21% – 00:02:18\n",
      "[300,000] MacroF1: 10.69% – 00:02:45\n"
     ]
    },
    {
     "data": {
      "text/plain": [
       "MacroF1: 10.36%"
      ]
     },
     "execution_count": 8,
     "metadata": {},
     "output_type": "execute_result"
    }
   ],
   "source": [
    "evaluate.progressive_val_score(\n",
    "    model=construct_pipeline(SGD_model),\n",
    "    dataset=stream_data,\n",
    "    metric=SGD_F1,\n",
    "    print_every=50000,\n",
    "    show_time = True)"
   ]
  }
 ],
 "metadata": {
  "kernelspec": {
   "display_name": "Python 3 (ipykernel)",
   "language": "python",
   "name": "python3"
  },
  "language_info": {
   "codemirror_mode": {
    "name": "ipython",
    "version": 3
   },
   "file_extension": ".py",
   "mimetype": "text/x-python",
   "name": "python",
   "nbconvert_exporter": "python",
   "pygments_lexer": "ipython3",
   "version": "3.9.10"
  }
 },
 "nbformat": 4,
 "nbformat_minor": 5
}
