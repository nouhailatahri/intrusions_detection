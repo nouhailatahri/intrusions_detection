{
 "cells": [
  {
   "cell_type": "code",
   "execution_count": 2,
   "id": "0bb9b026-e3bb-4824-861f-ad869047b5a1",
   "metadata": {
    "tags": []
   },
   "outputs": [
    {
     "name": "stdout",
     "output_type": "stream",
     "text": [
      "\u001b[33mWARNING: The directory '/home/jovyan/.cache/pip' or its parent directory is not owned or is not writable by the current user. The cache has been disabled. Check the permissions and owner of that directory. If executing pip with sudo, you should use sudo's -H flag.\u001b[0m\u001b[33m\n",
      "\u001b[0mCollecting numpy==1.16.6\n",
      "  Downloading numpy-1.16.6.zip (5.1 MB)\n",
      "\u001b[2K     \u001b[90m━━━━━━━━━━━━━━━━━━━━━━━━━━━━━━━━━━━━━━━━\u001b[0m \u001b[32m5.1/5.1 MB\u001b[0m \u001b[31m23.8 MB/s\u001b[0m eta \u001b[36m0:00:00\u001b[0m00:01\u001b[0m00:01\u001b[0m\n",
      "\u001b[?25h  Preparing metadata (setup.py) ... \u001b[?25ldone\n",
      "\u001b[?25hBuilding wheels for collected packages: numpy\n",
      "  Building wheel for numpy (setup.py) ... \u001b[?25ldone\n",
      "\u001b[?25h  Created wheel for numpy: filename=numpy-1.16.6-cp39-cp39-linux_x86_64.whl size=3408386 sha256=29b543d360e8e7f0a5f89348d09262a08c993c9e1542eee79e492481146f3e02\n",
      "  Stored in directory: /tmp/pip-ephem-wheel-cache-_4c_3j96/wheels/ce/72/38/377a1055ac9b575ebba22e507856aecdc37f9bf6372703e5f9\n",
      "Successfully built numpy\n",
      "Installing collected packages: numpy\n",
      "  Attempting uninstall: numpy\n",
      "    Found existing installation: numpy 1.21.5\n",
      "    Uninstalling numpy-1.21.5:\n",
      "      Successfully uninstalled numpy-1.21.5\n",
      "\u001b[31mERROR: pip's dependency resolver does not currently take into account all the packages that are installed. This behaviour is the source of the following dependency conflicts.\n",
      "tifffile 2022.3.16 requires numpy>=1.19.2, but you have numpy 1.16.6 which is incompatible.\n",
      "tables 3.7.0 requires numpy>=1.19.0, but you have numpy 1.16.6 which is incompatible.\n",
      "statsmodels 0.13.2 requires numpy>=1.17, but you have numpy 1.16.6 which is incompatible.\n",
      "scipy 1.8.0 requires numpy<1.25.0,>=1.17.3, but you have numpy 1.16.6 which is incompatible.\n",
      "scikit-image 0.19.2 requires numpy>=1.17.0, but you have numpy 1.16.6 which is incompatible.\n",
      "pywavelets 1.3.0 requires numpy>=1.17.3, but you have numpy 1.16.6 which is incompatible.\n",
      "pandas 1.4.1 requires numpy>=1.18.5, but you have numpy 1.16.6 which is incompatible.\n",
      "numba 0.55.1 requires numpy<1.22,>=1.18, but you have numpy 1.16.6 which is incompatible.\n",
      "matplotlib 3.5.1 requires numpy>=1.17, but you have numpy 1.16.6 which is incompatible.\n",
      "imageio 2.16.1 requires numpy>=1.20.0, but you have numpy 1.16.6 which is incompatible.\n",
      "imagecodecs 2022.2.22 requires numpy>=1.19.2, but you have numpy 1.16.6 which is incompatible.\u001b[0m\u001b[31m\n",
      "\u001b[0mSuccessfully installed numpy-1.16.6\n",
      "\u001b[33mWARNING: Running pip as the 'root' user can result in broken permissions and conflicting behaviour with the system package manager. It is recommended to use a virtual environment instead: https://pip.pypa.io/warnings/venv\u001b[0m\u001b[33m\n",
      "\u001b[0m\u001b[33mWARNING: The directory '/home/jovyan/.cache/pip' or its parent directory is not owned or is not writable by the current user. The cache has been disabled. Check the permissions and owner of that directory. If executing pip with sudo, you should use sudo's -H flag.\u001b[0m\u001b[33m\n",
      "\u001b[0mCollecting river\n",
      "  Downloading river-0.10.1-cp39-cp39-manylinux_2_5_x86_64.manylinux1_x86_64.manylinux_2_17_x86_64.manylinux2014_x86_64.whl (2.1 MB)\n",
      "\u001b[2K     \u001b[90m━━━━━━━━━━━━━━━━━━━━━━━━━━━━━━━━━━━━━━━━\u001b[0m \u001b[32m2.1/2.1 MB\u001b[0m \u001b[31m24.0 MB/s\u001b[0m eta \u001b[36m0:00:00\u001b[0ma \u001b[36m0:00:01\u001b[0m\n",
      "\u001b[?25hRequirement already satisfied: pandas>=1.0.1 in /opt/conda/lib/python3.9/site-packages (from river) (1.4.1)\n",
      "Collecting numpy>=1.20.0\n",
      "  Downloading numpy-1.22.3-cp39-cp39-manylinux_2_17_x86_64.manylinux2014_x86_64.whl (16.8 MB)\n",
      "\u001b[2K     \u001b[90m━━━━━━━━━━━━━━━━━━━━━━━━━━━━━━━━━━━━━━━━\u001b[0m \u001b[32m16.8/16.8 MB\u001b[0m \u001b[31m23.5 MB/s\u001b[0m eta \u001b[36m0:00:00\u001b[0ma \u001b[36m0:00:01\u001b[0m\n",
      "\u001b[?25hRequirement already satisfied: scipy>=1.4.1 in /opt/conda/lib/python3.9/site-packages (from river) (1.8.0)\n",
      "Requirement already satisfied: python-dateutil>=2.8.1 in /opt/conda/lib/python3.9/site-packages (from pandas>=1.0.1->river) (2.8.2)\n",
      "Requirement already satisfied: pytz>=2020.1 in /opt/conda/lib/python3.9/site-packages (from pandas>=1.0.1->river) (2021.3)\n",
      "Requirement already satisfied: six>=1.5 in /opt/conda/lib/python3.9/site-packages (from python-dateutil>=2.8.1->pandas>=1.0.1->river) (1.16.0)\n",
      "Installing collected packages: numpy, river\n",
      "  Attempting uninstall: numpy\n",
      "    Found existing installation: numpy 1.16.6\n",
      "    Uninstalling numpy-1.16.6:\n",
      "      Successfully uninstalled numpy-1.16.6\n",
      "\u001b[31mERROR: pip's dependency resolver does not currently take into account all the packages that are installed. This behaviour is the source of the following dependency conflicts.\n",
      "numba 0.55.1 requires numpy<1.22,>=1.18, but you have numpy 1.22.3 which is incompatible.\u001b[0m\u001b[31m\n",
      "\u001b[0mSuccessfully installed numpy-1.22.3 river-0.10.1\n",
      "\u001b[33mWARNING: Running pip as the 'root' user can result in broken permissions and conflicting behaviour with the system package manager. It is recommended to use a virtual environment instead: https://pip.pypa.io/warnings/venv\u001b[0m\u001b[33m\n",
      "\u001b[0m"
     ]
    }
   ],
   "source": [
    "!pip install numpy==1.16.6\n",
    "!pip install river"
   ]
  },
  {
   "cell_type": "code",
   "execution_count": 5,
   "id": "a215d571-e568-4422-a4cf-d3525297f57f",
   "metadata": {},
   "outputs": [
    {
     "name": "stdout",
     "output_type": "stream",
     "text": [
      "\u001b[33mWARNING: The directory '/home/jovyan/.cache/pip' or its parent directory is not owned or is not writable by the current user. The cache has been disabled. Check the permissions and owner of that directory. If executing pip with sudo, you should use sudo's -H flag.\u001b[0m\u001b[33m\n",
      "\u001b[0mCollecting imblearn\n",
      "  Downloading imblearn-0.0-py2.py3-none-any.whl (1.9 kB)\n",
      "Collecting imbalanced-learn\n",
      "  Downloading imbalanced_learn-0.9.0-py3-none-any.whl (199 kB)\n",
      "\u001b[2K     \u001b[90m━━━━━━━━━━━━━━━━━━━━━━━━━━━━━━━━━━━━━━\u001b[0m \u001b[32m199.1/199.1 KB\u001b[0m \u001b[31m34.4 MB/s\u001b[0m eta \u001b[36m0:00:00\u001b[0m\n",
      "\u001b[?25hRequirement already satisfied: joblib>=0.11 in /opt/conda/lib/python3.9/site-packages (from imbalanced-learn->imblearn) (1.1.0)\n",
      "Requirement already satisfied: numpy>=1.14.6 in /opt/conda/lib/python3.9/site-packages (from imbalanced-learn->imblearn) (1.22.3)\n",
      "Requirement already satisfied: threadpoolctl>=2.0.0 in /opt/conda/lib/python3.9/site-packages (from imbalanced-learn->imblearn) (3.1.0)\n",
      "Requirement already satisfied: scikit-learn>=1.0.1 in /opt/conda/lib/python3.9/site-packages (from imbalanced-learn->imblearn) (1.0.2)\n",
      "Requirement already satisfied: scipy>=1.1.0 in /opt/conda/lib/python3.9/site-packages (from imbalanced-learn->imblearn) (1.8.0)\n",
      "Installing collected packages: imbalanced-learn, imblearn\n",
      "Successfully installed imbalanced-learn-0.9.0 imblearn-0.0\n",
      "\u001b[33mWARNING: Running pip as the 'root' user can result in broken permissions and conflicting behaviour with the system package manager. It is recommended to use a virtual environment instead: https://pip.pypa.io/warnings/venv\u001b[0m\u001b[33m\n",
      "\u001b[0m"
     ]
    }
   ],
   "source": [
    "!pip install imblearn"
   ]
  },
  {
   "cell_type": "code",
   "execution_count": 3,
   "id": "61249c0b-13d9-427f-a331-3b12334d72c7",
   "metadata": {},
   "outputs": [],
   "source": [
    "#encoding={'Benign':0, 'FTP-BruteForce':1,'DoS attacks-GoldenEye':2, 'DoS attacks-Slowloris':3,'DoS attacks-SlowHTTPTest':4, 'DoS attacks-Hulk':5,\"DDOS attack-HOIC\":6,\"Bot\":7,\"DDOS attack-LOIC-UDP\":8}"
   ]
  },
  {
   "cell_type": "code",
   "execution_count": 6,
   "id": "0de22461-6c13-4970-917e-346bc39baa80",
   "metadata": {},
   "outputs": [],
   "source": [
    "from river import stream\n",
    "from river import preprocessing\n",
    "from river import compose\n",
    "from river import metrics\n",
    "from river import stats\n",
    "from river import evaluate\n",
    "import pandas as pd\n",
    "from river.feature_selection import PoissonInclusion\n",
    "from river.imblearn import HardSamplingClassifier\n",
    "from river.tree import HoeffdingTreeClassifier\n",
    "from imblearn.metrics import geometric_mean_score\n",
    "from river.metrics import ClassificationReport"
   ]
  },
  {
   "cell_type": "code",
   "execution_count": 7,
   "id": "dd569d4c-45f8-414d-ab6e-7c2918f7916c",
   "metadata": {},
   "outputs": [],
   "source": [
    "data = pd.read_csv(\"preprocessed_multiclass_stream.csv\")"
   ]
  },
  {
   "cell_type": "code",
   "execution_count": 8,
   "id": "873ea198-d6e1-4292-92d9-7f8b267b89dd",
   "metadata": {},
   "outputs": [],
   "source": [
    "from sklearn.model_selection import train_test_split\n",
    "\n",
    "train, test = train_test_split(data, test_size=0.2)"
   ]
  },
  {
   "cell_type": "code",
   "execution_count": 9,
   "id": "8f289eba-a8c2-4735-bf49-2e8d66e82aea",
   "metadata": {},
   "outputs": [],
   "source": [
    "stream_data = stream.iter_pandas(train.drop(\"Label\", axis = 1), y = train[\"Label\"])"
   ]
  },
  {
   "cell_type": "code",
   "execution_count": 10,
   "id": "bf4b9943-edca-493b-8f42-1e587232d4a3",
   "metadata": {},
   "outputs": [],
   "source": [
    "test_data = stream.iter_pandas(test.drop(\"Label\", axis = 1), y = test[\"Label\"])"
   ]
  },
  {
   "cell_type": "code",
   "execution_count": 11,
   "id": "3cac8f95-023a-4d01-8c5d-59425251e266",
   "metadata": {},
   "outputs": [],
   "source": [
    "def construct_pipeline(model):\n",
    "    return compose.Pipeline(\n",
    "                PoissonInclusion(p=0.4), # feature selection to reduce training time\n",
    "                HardSamplingClassifier( # imblearn wrapper to solve class imbalance\n",
    "                            classifier=model, \n",
    "                            p=0.1,\n",
    "                            size=40,\n",
    "                        )\n",
    "                )"
   ]
  },
  {
   "cell_type": "code",
   "execution_count": 12,
   "id": "c0163558-35d0-4ad4-84d6-535d9523d4db",
   "metadata": {},
   "outputs": [],
   "source": [
    "HT_model = HoeffdingTreeClassifier()"
   ]
  },
  {
   "cell_type": "code",
   "execution_count": 13,
   "id": "a2d2b3fc-2336-4a13-b054-6f61e613899d",
   "metadata": {},
   "outputs": [],
   "source": [
    "model=construct_pipeline(HT_model)"
   ]
  },
  {
   "cell_type": "code",
   "execution_count": 14,
   "id": "49b0fd32-72c1-47e9-bbd4-86a377c565e9",
   "metadata": {},
   "outputs": [],
   "source": [
    "for x, y in stream_data:\n",
    "    model = model.learn_one(x, y)      # make the model learn  "
   ]
  },
  {
   "cell_type": "code",
   "execution_count": 15,
   "id": "36ed72fe-031e-4b9a-bd3d-d6b41aa6bf78",
   "metadata": {
    "tags": []
   },
   "outputs": [
    {
     "name": "stdout",
     "output_type": "stream",
     "text": [
      "[Accuracy: 90.10%, Recall: 87.12%, Precision: 60.47%, F1: 71.39%]\n"
     ]
    }
   ],
   "source": [
    "Acc_metric = metrics.Accuracy();\n",
    "Rec_metric = metrics.Recall();\n",
    "Pre_metric = metrics.Precision();\n",
    "F1_metric = metrics.F1();\n",
    "\n",
    "def get_metric(Acc, rec, pre, f1 ):\n",
    "  Acc, rec, pre, f1 = Acc, rec, pre, f1\n",
    "  return([Acc, rec, pre, f1])\n",
    "\n",
    "predictions = []\n",
    "true_y = []\n",
    "for x, y in test_data:\n",
    "    y_pred = model.predict_one(x) # make a prediction\n",
    "    predictions.append(y_pred)\n",
    "    true_y.append(y)\n",
    "    Acc_metric = Acc_metric.update(y, y_pred)\n",
    "    Rec_metric = Rec_metric.update(y, y_pred)\n",
    "    Pre_metric = Pre_metric.update(y, y_pred)\n",
    "    F1_metric = F1_metric.update(y, y_pred)\n",
    "    model = model.learn_one(x, y)\n",
    "print(get_metric(Acc_metric, Rec_metric, Pre_metric, F1_metric))  "
   ]
  },
  {
   "cell_type": "code",
   "execution_count": 16,
   "id": "ea53dc6d-7a88-4398-b3d0-58db53965e19",
   "metadata": {},
   "outputs": [
    {
     "name": "stdout",
     "output_type": "stream",
     "text": [
      "           Precision   Recall   F1       Support  \n",
      "                                                  \n",
      "       0      90.94%   96.29%   93.54%      8031  \n",
      "       1      60.47%   87.12%   71.39%      5224  \n",
      "       2      85.73%   99.40%   92.06%      8204  \n",
      "       3      96.30%   92.10%   94.16%      2064  \n",
      "       4      59.62%   24.57%   34.80%       396  \n",
      "       5      87.25%   59.12%   70.48%      3217  \n",
      "       6      99.92%   99.93%   99.93%     17001  \n",
      "       7      99.60%   95.25%   97.37%     14366  \n",
      "       8      99.72%   99.72%   99.72%       356  \n",
      "                                                  \n",
      "   Macro      86.62%   83.72%   83.72%            \n",
      "   Micro      90.10%   90.10%   90.10%            \n",
      "Weighted      90.20%   90.10%   89.25%            \n",
      "\n",
      "                 90.10% accuracy                  \n",
      "geometric mean score : 0.9440602609898785\n"
     ]
    }
   ],
   "source": [
    "report = ClassificationReport()\n",
    "for yt,yp in zip(true_y, predictions):\n",
    "  report = report.update(yt,yp)\n",
    "print(report)\n",
    "print(\"geometric mean score :\",geometric_mean_score(true_y, predictions, average='weighted'))"
   ]
  },
  {
   "cell_type": "code",
   "execution_count": null,
   "id": "4d927035-632c-4709-ba54-fd0437334899",
   "metadata": {},
   "outputs": [],
   "source": []
  }
 ],
 "metadata": {
  "kernelspec": {
   "display_name": "Python 3 (ipykernel)",
   "language": "python",
   "name": "python3"
  },
  "language_info": {
   "codemirror_mode": {
    "name": "ipython",
    "version": 3
   },
   "file_extension": ".py",
   "mimetype": "text/x-python",
   "name": "python",
   "nbconvert_exporter": "python",
   "pygments_lexer": "ipython3",
   "version": "3.9.10"
  }
 },
 "nbformat": 4,
 "nbformat_minor": 5
}
