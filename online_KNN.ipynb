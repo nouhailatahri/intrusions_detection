{
 "cells": [
  {
   "cell_type": "code",
   "execution_count": 1,
   "id": "0bb9b026-e3bb-4824-861f-ad869047b5a1",
   "metadata": {
    "tags": []
   },
   "outputs": [
    {
     "name": "stdout",
     "output_type": "stream",
     "text": [
      "\u001b[33mWARNING: The directory '/home/jovyan/.cache/pip' or its parent directory is not owned or is not writable by the current user. The cache has been disabled. Check the permissions and owner of that directory. If executing pip with sudo, you should use sudo's -H flag.\u001b[0m\u001b[33m\n",
      "\u001b[0mCollecting numpy==1.16.6\n",
      "  Downloading numpy-1.16.6.zip (5.1 MB)\n",
      "\u001b[2K     \u001b[90m━━━━━━━━━━━━━━━━━━━━━━━━━━━━━━━━━━━━━━━━\u001b[0m \u001b[32m5.1/5.1 MB\u001b[0m \u001b[31m18.7 MB/s\u001b[0m eta \u001b[36m0:00:00\u001b[0ma \u001b[36m0:00:01\u001b[0m\n",
      "\u001b[?25h  Preparing metadata (setup.py) ... \u001b[?25ldone\n",
      "\u001b[?25hBuilding wheels for collected packages: numpy\n",
      "  Building wheel for numpy (setup.py) ... \u001b[?25ldone\n",
      "\u001b[?25h  Created wheel for numpy: filename=numpy-1.16.6-cp39-cp39-linux_x86_64.whl size=3408386 sha256=7af8ebe60045991d5449e33a70db93179879d8e77b2633984ffe326c2c56d38b\n",
      "  Stored in directory: /tmp/pip-ephem-wheel-cache-ywtm3c0o/wheels/ce/72/38/377a1055ac9b575ebba22e507856aecdc37f9bf6372703e5f9\n",
      "Successfully built numpy\n",
      "Installing collected packages: numpy\n",
      "  Attempting uninstall: numpy\n",
      "    Found existing installation: numpy 1.22.3\n",
      "    Uninstalling numpy-1.22.3:\n",
      "      Successfully uninstalled numpy-1.22.3\n",
      "\u001b[31mERROR: pip's dependency resolver does not currently take into account all the packages that are installed. This behaviour is the source of the following dependency conflicts.\n",
      "tifffile 2022.3.16 requires numpy>=1.19.2, but you have numpy 1.16.6 which is incompatible.\n",
      "tables 3.7.0 requires numpy>=1.19.0, but you have numpy 1.16.6 which is incompatible.\n",
      "statsmodels 0.13.2 requires numpy>=1.17, but you have numpy 1.16.6 which is incompatible.\n",
      "scipy 1.8.0 requires numpy<1.25.0,>=1.17.3, but you have numpy 1.16.6 which is incompatible.\n",
      "scikit-image 0.19.2 requires numpy>=1.17.0, but you have numpy 1.16.6 which is incompatible.\n",
      "river 0.10.1 requires numpy>=1.20.0, but you have numpy 1.16.6 which is incompatible.\n",
      "pywavelets 1.3.0 requires numpy>=1.17.3, but you have numpy 1.16.6 which is incompatible.\n",
      "pandas 1.4.1 requires numpy>=1.18.5, but you have numpy 1.16.6 which is incompatible.\n",
      "numba 0.55.1 requires numpy<1.22,>=1.18, but you have numpy 1.16.6 which is incompatible.\n",
      "matplotlib 3.5.1 requires numpy>=1.17, but you have numpy 1.16.6 which is incompatible.\n",
      "imageio 2.16.1 requires numpy>=1.20.0, but you have numpy 1.16.6 which is incompatible.\n",
      "imagecodecs 2022.2.22 requires numpy>=1.19.2, but you have numpy 1.16.6 which is incompatible.\u001b[0m\u001b[31m\n",
      "\u001b[0mSuccessfully installed numpy-1.16.6\n",
      "\u001b[33mWARNING: Running pip as the 'root' user can result in broken permissions and conflicting behaviour with the system package manager. It is recommended to use a virtual environment instead: https://pip.pypa.io/warnings/venv\u001b[0m\u001b[33m\n",
      "\u001b[0m\u001b[33mWARNING: The directory '/home/jovyan/.cache/pip' or its parent directory is not owned or is not writable by the current user. The cache has been disabled. Check the permissions and owner of that directory. If executing pip with sudo, you should use sudo's -H flag.\u001b[0m\u001b[33m\n",
      "\u001b[0mRequirement already satisfied: river in /opt/conda/lib/python3.9/site-packages (0.10.1)\n",
      "Requirement already satisfied: scipy>=1.4.1 in /opt/conda/lib/python3.9/site-packages (from river) (1.8.0)\n",
      "Collecting numpy>=1.20.0\n",
      "  Downloading numpy-1.22.3-cp39-cp39-manylinux_2_17_x86_64.manylinux2014_x86_64.whl (16.8 MB)\n",
      "\u001b[2K     \u001b[90m━━━━━━━━━━━━━━━━━━━━━━━━━━━━━━━━━━━━━━━━\u001b[0m \u001b[32m16.8/16.8 MB\u001b[0m \u001b[31m23.5 MB/s\u001b[0m eta \u001b[36m0:00:00\u001b[0ma \u001b[36m0:00:01\u001b[0m\n",
      "\u001b[?25hRequirement already satisfied: pandas>=1.0.1 in /opt/conda/lib/python3.9/site-packages (from river) (1.4.1)\n",
      "Requirement already satisfied: python-dateutil>=2.8.1 in /opt/conda/lib/python3.9/site-packages (from pandas>=1.0.1->river) (2.8.2)\n",
      "Requirement already satisfied: pytz>=2020.1 in /opt/conda/lib/python3.9/site-packages (from pandas>=1.0.1->river) (2021.3)\n",
      "Requirement already satisfied: six>=1.5 in /opt/conda/lib/python3.9/site-packages (from python-dateutil>=2.8.1->pandas>=1.0.1->river) (1.16.0)\n",
      "Installing collected packages: numpy\n",
      "  Attempting uninstall: numpy\n",
      "    Found existing installation: numpy 1.16.6\n",
      "    Uninstalling numpy-1.16.6:\n",
      "      Successfully uninstalled numpy-1.16.6\n",
      "\u001b[31mERROR: pip's dependency resolver does not currently take into account all the packages that are installed. This behaviour is the source of the following dependency conflicts.\n",
      "numba 0.55.1 requires numpy<1.22,>=1.18, but you have numpy 1.22.3 which is incompatible.\u001b[0m\u001b[31m\n",
      "\u001b[0mSuccessfully installed numpy-1.22.3\n",
      "\u001b[33mWARNING: Running pip as the 'root' user can result in broken permissions and conflicting behaviour with the system package manager. It is recommended to use a virtual environment instead: https://pip.pypa.io/warnings/venv\u001b[0m\u001b[33m\n",
      "\u001b[0m"
     ]
    }
   ],
   "source": [
    "!pip install numpy==1.16.6\n",
    "!pip install river"
   ]
  },
  {
   "cell_type": "code",
   "execution_count": null,
   "id": "a215d571-e568-4422-a4cf-d3525297f57f",
   "metadata": {},
   "outputs": [],
   "source": []
  },
  {
   "cell_type": "code",
   "execution_count": 2,
   "id": "61249c0b-13d9-427f-a331-3b12334d72c7",
   "metadata": {},
   "outputs": [],
   "source": [
    "#encoding={'Benign':0, 'FTP-BruteForce':1,'DoS attacks-GoldenEye':2, 'DoS attacks-Slowloris':3,'DoS attacks-SlowHTTPTest':4, 'DoS attacks-Hulk':5,\"DDOS attack-HOIC\":6,\"Bot\":7,\"DDOS attack-LOIC-UDP\":8}"
   ]
  },
  {
   "cell_type": "code",
   "execution_count": 13,
   "id": "0de22461-6c13-4970-917e-346bc39baa80",
   "metadata": {},
   "outputs": [],
   "source": [
    "from river import stream\n",
    "from river import preprocessing\n",
    "from river import compose\n",
    "from river import metrics\n",
    "from river import stats\n",
    "from river import evaluate\n",
    "import pandas as pd\n",
    "from river.feature_selection import PoissonInclusion\n",
    "from river.imblearn import HardSamplingClassifier\n",
    "from river.neighbors import KNNClassifier\n",
    "from imblearn.metrics import geometric_mean_score\n",
    "from river.metrics import ClassificationReport"
   ]
  },
  {
   "cell_type": "code",
   "execution_count": 14,
   "id": "dd569d4c-45f8-414d-ab6e-7c2918f7916c",
   "metadata": {},
   "outputs": [],
   "source": [
    "data = pd.read_csv(\"preprocessed_multiclass_stream.csv\")"
   ]
  },
  {
   "cell_type": "code",
   "execution_count": 3,
   "id": "a947ed70-e71e-42c6-9dc2-636c8289f6d8",
   "metadata": {},
   "outputs": [],
   "source": [
    "from sklearn.model_selection import train_test_split\n",
    "\n",
    "train, test = train_test_split(data, test_size=0.2)"
   ]
  },
  {
   "cell_type": "code",
   "execution_count": 4,
   "id": "8f289eba-a8c2-4735-bf49-2e8d66e82aea",
   "metadata": {},
   "outputs": [],
   "source": [
    "stream_data = stream.iter_pandas(train.drop(\"Label\", axis = 1), y = train[\"Label\"])"
   ]
  },
  {
   "cell_type": "code",
   "execution_count": 5,
   "id": "63162b04-b3aa-4fac-aa17-26d1d7882e9e",
   "metadata": {},
   "outputs": [],
   "source": [
    "test_data = stream.iter_pandas(test.drop(\"Label\", axis = 1), y = test[\"Label\"])"
   ]
  },
  {
   "cell_type": "code",
   "execution_count": 7,
   "id": "3cac8f95-023a-4d01-8c5d-59425251e266",
   "metadata": {},
   "outputs": [],
   "source": [
    "def construct_pipeline(model):\n",
    "    return compose.Pipeline(\n",
    "                PoissonInclusion(p=0.4), # feature selection to reduce training time\n",
    "                HardSamplingClassifier( # imblearn wrapper to solve class imbalance\n",
    "                            classifier=model, \n",
    "                            p=0.1,size=40)\n",
    "                )"
   ]
  },
  {
   "cell_type": "code",
   "execution_count": 7,
   "id": "56046822-ab12-4b55-ab2c-377f74bbf5f5",
   "metadata": {},
   "outputs": [],
   "source": [
    "KNN_model = KNNClassifier()"
   ]
  },
  {
   "cell_type": "code",
   "execution_count": 12,
   "id": "ab39c3aa-59f7-489a-8554-8fceebd6a431",
   "metadata": {},
   "outputs": [],
   "source": [
    "model=construct_pipeline(KNN_model)"
   ]
  },
  {
   "cell_type": "code",
   "execution_count": 8,
   "id": "676d9763-ab8b-42a9-bb5f-63f191a63cee",
   "metadata": {},
   "outputs": [],
   "source": [
    "model = (\n",
    "     preprocessing.StandardScaler() |\n",
    "     KNNClassifier()\n",
    ")"
   ]
  },
  {
   "cell_type": "code",
   "execution_count": 9,
   "id": "4e281f12-509a-43a2-b676-9c79e41acf38",
   "metadata": {
    "tags": []
   },
   "outputs": [],
   "source": [
    "for x, y in stream_data:\n",
    "    model = model.learn_one(x, y)"
   ]
  },
  {
   "cell_type": "code",
   "execution_count": 10,
   "id": "8b2b5077-2d27-4fa6-8f63-d58715503126",
   "metadata": {},
   "outputs": [],
   "source": [
    "Acc_metric = metrics.Accuracy();\n",
    "Rec_metric = metrics.Recall();\n",
    "Pre_metric = metrics.Precision();\n",
    "F1_metric = metrics.F1();\n",
    "\n",
    "def get_metric(Acc, rec, pre, f1 ):\n",
    "  Acc, rec, pre, f1 = Acc, rec, pre, f1\n",
    "  return([Acc, rec, pre, f1])"
   ]
  },
  {
   "cell_type": "code",
   "execution_count": 11,
   "id": "26e5ec49-ffd4-4608-b7cf-bb9e00d85444",
   "metadata": {},
   "outputs": [
    {
     "name": "stdout",
     "output_type": "stream",
     "text": [
      "[Accuracy: 93.03%, Recall: 69.89%, Precision: 66.90%, F1: 68.36%]\n"
     ]
    }
   ],
   "source": [
    "predictions = []\n",
    "true_y = []\n",
    "for x, y in test_data:\n",
    "    y_pred = model.predict_one(x) # make a prediction\n",
    "    predictions.append(y_pred)\n",
    "    true_y.append(y)\n",
    "    Acc_metric = Acc_metric.update(y, y_pred)\n",
    "    Rec_metric = Rec_metric.update(y, y_pred)\n",
    "    Pre_metric = Pre_metric.update(y, y_pred)\n",
    "    F1_metric = F1_metric.update(y, y_pred)\n",
    "    model = model.learn_one(x, y)\n",
    "print(get_metric(Acc_metric, Rec_metric, Pre_metric, F1_metric))  "
   ]
  },
  {
   "cell_type": "code",
   "execution_count": 15,
   "id": "0912d564-4592-4af3-ba4e-c7cf0176b7c6",
   "metadata": {},
   "outputs": [
    {
     "name": "stdout",
     "output_type": "stream",
     "text": [
      "           Precision   Recall   F1       Support  \n",
      "                                                  \n",
      "       0      97.92%   90.19%   93.90%       828  \n",
      "       1      66.90%   69.89%   68.36%      5171  \n",
      "       2      95.83%   99.50%   97.63%      8206  \n",
      "       3      96.14%   92.48%   94.28%      2075  \n",
      "       4      58.29%   56.36%   57.31%      3941  \n",
      "       5      98.67%   99.33%   99.00%       314  \n",
      "       6      99.58%   99.98%   99.78%     16783  \n",
      "       7      98.15%   99.77%   98.95%      1449  \n",
      "       8     100.00%   97.33%   98.65%       337  \n",
      "                                                  \n",
      "   Macro      90.17%   89.43%   89.76%            \n",
      "   Micro      93.03%   93.03%   93.03%            \n",
      "Weighted      93.06%   93.03%   93.01%            \n",
      "\n",
      "                 93.03% accuracy                  \n",
      "geometric mean score : 0.9609445773905494\n"
     ]
    }
   ],
   "source": [
    "report = ClassificationReport()\n",
    "for yt,yp in zip(true_y, predictions):\n",
    "  report = report.update(yt,yp)\n",
    "print(report)\n",
    "print(\"geometric mean score :\",geometric_mean_score(true_y, predictions, average='weighted'))"
   ]
  },
  {
   "cell_type": "code",
   "execution_count": null,
   "id": "4ff41d34-cbc0-4403-8173-b390bd1af846",
   "metadata": {},
   "outputs": [],
   "source": []
  }
 ],
 "metadata": {
  "kernelspec": {
   "display_name": "Python 3 (ipykernel)",
   "language": "python",
   "name": "python3"
  },
  "language_info": {
   "codemirror_mode": {
    "name": "ipython",
    "version": 3
   },
   "file_extension": ".py",
   "mimetype": "text/x-python",
   "name": "python",
   "nbconvert_exporter": "python",
   "pygments_lexer": "ipython3",
   "version": "3.9.10"
  }
 },
 "nbformat": 4,
 "nbformat_minor": 5
}
